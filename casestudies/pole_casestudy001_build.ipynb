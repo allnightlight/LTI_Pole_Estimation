{
 "cells": [
  {
   "cell_type": "code",
   "execution_count": null,
   "metadata": {},
   "outputs": [],
   "source": [
    "# To mount\n",
    "from google.colab import drive\n",
    "drive.mount('/content/drive')\n",
    "\n",
    "# # To initialize the work environment\n",
    "# %cd /content/drive/My Drive/\n",
    "# !git clone https://github.com/allnightlight/LTI_Pole_Estimation.git -b casestudies\n",
    "\n",
    "# # To update the work environment\n",
    "# %cd /content/drive/My Drive/LTI_Pole_Estimation\n",
    "# !git pull\n",
    "\n",
    "%cd /content/drive/My Drive/LTI_Pole_Estimation/casestudies"
   ]
  },
  {
   "cell_type": "code",
   "execution_count": null,
   "metadata": {},
   "outputs": [],
   "source": [
    "import os\n",
    "import sys\n",
    "sys.path.append(\"../framework/\")\n",
    "sys.path.append(\"../sl/\")\n",
    "sys.path.append(\"../pole/\")\n",
    "\n",
    "import numpy as np\n",
    "import matplotlib.pylab as plt\n",
    "from pole_environment import PoleEnvironment\n",
    "from pole_environment_factory import PoleEnvironmentFactory\n",
    "from pole_build_parameter import PoleBuildParameter\n",
    "from pole_build_parameter_factory import PoleBuildParameterFactory\n",
    "from builder import Builder\n",
    "from store import Store\n",
    "from pole_agent_factory import PoleAgentFactory\n",
    "from pole_trainer_factory import PoleTrainerFactory\n",
    "from mylogger import MyLogger\n",
    "\n",
    "from loader import Loader"
   ]
  },
  {
   "cell_type": "code",
   "execution_count": null,
   "metadata": {},
   "outputs": [],
   "source": [
    "case_study_name = \"case_study_001a\""
   ]
  },
  {
   "cell_type": "code",
   "execution_count": null,
   "metadata": {},
   "outputs": [],
   "source": [
    "trainingHistoryDbPath = \"%s_training_history.sqlite\" % case_study_name"
   ]
  },
  {
   "cell_type": "markdown",
   "metadata": {},
   "source": [
    "## S100: Define Conc. Env. to be modeled by deriving PoleEnv."
   ]
  },
  {
   "cell_type": "markdown",
   "metadata": {},
   "source": [
    "### SS110: define ConcEnv => SKIP"
   ]
  },
  {
   "cell_type": "markdown",
   "metadata": {},
   "source": [
    "### SS120: define ConcEnvFactory => SKIP"
   ]
  },
  {
   "cell_type": "markdown",
   "metadata": {},
   "source": [
    "## S200: Define Conc. Build Param. "
   ]
  },
  {
   "cell_type": "markdown",
   "metadata": {},
   "source": [
    "### SS210: define ConcBuildParameter => SKIP"
   ]
  },
  {
   "cell_type": "markdown",
   "metadata": {},
   "source": [
    "### SS220: define ConcBuildParameterFactory  => SKIP"
   ]
  },
  {
   "cell_type": "markdown",
   "metadata": {},
   "source": [
    "## S300: Run learning agents"
   ]
  },
  {
   "cell_type": "markdown",
   "metadata": {},
   "source": [
    "### SS310: define instances of Pole. Build Params"
   ]
  },
  {
   "cell_type": "code",
   "execution_count": null,
   "metadata": {},
   "outputs": [],
   "source": [
    "nBuild = 2**7\n",
    "buildParameters = []\n",
    "for k1 in range(nBuild):\n",
    "    \n",
    "    label = \"%s %03d/%03d\" % (case_study_name, k1, nBuild)\n",
    "    agentClass = np.random.choice((\"agent001\",))\n",
    "    Nhrz = int(np.random.choice((1,)))\n",
    "    Nhidden = int(np.random.choice((2**1, 2**2, 2**3,)))\n",
    "    seed = int(np.random.choice((0, 1, 2)))\n",
    "    \n",
    "    arg = dict(\n",
    "        nIntervalSave=2 ** 5\n",
    "        , nEpoch= 2 ** 7\n",
    "        , label=label\n",
    "        , Ny = Nhidden\n",
    "        , Nu = 1\n",
    "        , NhiddenAgent=Nhidden\n",
    "        , agentClass = agentClass\n",
    "        , Nbatch = 2**5\n",
    "        , Nhrz=int(Nhrz)\n",
    "        , seed=seed\n",
    "        , NhiddenEnv = Nhidden\n",
    "        , Ntrain = 2**10\n",
    "        , T0 = 2**2\n",
    "        , T1=2**5\n",
    "        )\n",
    "    \n",
    "    buildParameters.append(PoleBuildParameter(**arg))"
   ]
  },
  {
   "cell_type": "markdown",
   "metadata": {},
   "source": [
    "### SS320: initialize an instance of builder"
   ]
  },
  {
   "cell_type": "code",
   "execution_count": null,
   "metadata": {},
   "outputs": [],
   "source": [
    "agentFactory = PoleAgentFactory()\n",
    "environmentFactory = PoleEnvironmentFactory()\n",
    "trainerFactory = PoleTrainerFactory()\n",
    "\n",
    "logger = MyLogger(console_print=True)\n",
    "store = Store(trainingHistoryDbPath)\n",
    "\n",
    "builder = Builder(agentFactory=agentFactory\n",
    "                  , environmentFactory=environmentFactory\n",
    "                  , trainerFactory=trainerFactory\n",
    "                  , store=store\n",
    "                  , logger = logger)"
   ]
  },
  {
   "cell_type": "markdown",
   "metadata": {},
   "source": [
    "### SS330: run build"
   ]
  },
  {
   "cell_type": "code",
   "execution_count": null,
   "metadata": {},
   "outputs": [],
   "source": [
    "for buildParameter in buildParameters:\n",
    "    builder.build(buildParameter)"
   ]
  }
 ],
 "metadata": {
  "kernelspec": {
   "display_name": "Python 3",
   "language": "python",
   "name": "python3"
  },
  "language_info": {
   "codemirror_mode": {
    "name": "ipython",
    "version": 3
   },
   "file_extension": ".py",
   "mimetype": "text/x-python",
   "name": "python",
   "nbconvert_exporter": "python",
   "pygments_lexer": "ipython3",
   "version": "3.7.5"
  }
 },
 "nbformat": 4,
 "nbformat_minor": 2
}
