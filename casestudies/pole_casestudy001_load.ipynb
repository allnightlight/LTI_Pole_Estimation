{
 "cells": [
  {
   "cell_type": "code",
   "execution_count": null,
   "metadata": {},
   "outputs": [],
   "source": [
    "# To mount\n",
    "from google.colab import drive\n",
    "drive.mount('/content/drive')\n",
    "\n",
    "# # To initialize the work environment\n",
    "# %cd /content/drive/My Drive/\n",
    "# !git clone https://github.com/allnightlight/LTI_Pole_Estimation.git -b casestudies\n",
    "\n",
    "# # To update the work environment\n",
    "# %cd /content/drive/My Drive/LTI_Pole_Estimation\n",
    "# !git pull\n",
    "\n",
    "%cd /content/drive/My Drive/LTI_Pole_Estimation/casestudies"
   ]
  },
  {
   "cell_type": "code",
   "execution_count": null,
   "metadata": {},
   "outputs": [],
   "source": [
    "import os\n",
    "import sys\n",
    "sys.path.append(\"../framework/\")\n",
    "sys.path.append(\"../sl/\")\n",
    "sys.path.append(\"../pole/\")\n",
    "\n",
    "import numpy as np\n",
    "import matplotlib.pylab as plt\n",
    "import pandas as pd\n",
    "\n",
    "from pole_environment import PoleEnvironment\n",
    "from pole_environment_factory import PoleEnvironmentFactory\n",
    "from pole_build_parameter import PoleBuildParameter\n",
    "from pole_build_parameter_factory import PoleBuildParameterFactory\n",
    "from builder import Builder\n",
    "from store import Store\n",
    "from pole_agent_factory import PoleAgentFactory\n",
    "from pole_trainer_factory import PoleTrainerFactory\n",
    "from mylogger import MyLogger\n",
    "\n",
    "from loader import Loader"
   ]
  },
  {
   "cell_type": "code",
   "execution_count": null,
   "metadata": {},
   "outputs": [],
   "source": [
    "trainingHistoryDbPath = \"training_history.sqlite\""
   ]
  },
  {
   "cell_type": "markdown",
   "metadata": {},
   "source": [
    "## S400: Load trained agents to analyze them"
   ]
  },
  {
   "cell_type": "markdown",
   "metadata": {},
   "source": [
    "### SS410: choose a trained agent"
   ]
  },
  {
   "cell_type": "code",
   "execution_count": null,
   "metadata": {},
   "outputs": [],
   "source": [
    "agentFactory = PoleAgentFactory()\n",
    "environmentFactory = PoleEnvironmentFactory()\n",
    "\n",
    "store = Store(trainingHistoryDbPath)\n",
    "\n",
    "buildParameterFactory = PoleBuildParameterFactory()\n",
    "loader = Loader(agentFactory=agentFactory\n",
    "                , environmentFactory=environmentFactory\n",
    "                , buildParameterFactory=buildParameterFactory\n",
    "                , store = store)"
   ]
  },
  {
   "cell_type": "code",
   "execution_count": null,
   "metadata": {},
   "outputs": [],
   "source": [
    "def genTrainedAgents():\n",
    "    for agent, buildParameter, epoch in loader.load(\"test%\"):\n",
    "        yield agent, buildParameter, epoch"
   ]
  },
  {
   "cell_type": "markdown",
   "metadata": {},
   "source": [
    "### SS420: check the distribution of poles"
   ]
  },
  {
   "cell_type": "code",
   "execution_count": null,
   "metadata": {},
   "outputs": [],
   "source": [
    "def show_poles(agent, environment):\n",
    "\n",
    "    eig_true = environment.get_eig() # (nHiddeEnvironment,)\n",
    "    eig_estimated = agent.get_eig() # (nHiddenAgent,)\n",
    "\n",
    "    fig = plt.gcf()\n",
    "\n",
    "    th = np.linspace(0,1,2**6)*2*np.pi\n",
    "    ax = fig.add_subplot()\n",
    "    ax.plot(np.cos(th), np.sin(th), 'k--')\n",
    "    ax.axhline(0, color=\"k\", linestyle='--')\n",
    "    ax.axvline(0, color=\"k\", linestyle='--')\n",
    "    ax.plot(eig_true.real, eig_true.imag, 'x', label = \"true\")\n",
    "    ax.plot(eig_estimated.real, eig_estimated.imag, 'x', label = \"estimated\")\n",
    "    ax.legend()\n",
    "    plt.tight_layout()"
   ]
  },
  {
   "cell_type": "code",
   "execution_count": null,
   "metadata": {},
   "outputs": [],
   "source": [
    "import itertools as itr\n",
    "\n",
    "for agent, buildParameter, epoch in itr.islice(genTrainedAgents(), 1):\n",
    "    environment = environmentFactory.create(buildParameter)\n",
    "    \n",
    "    fig = plt.figure(figsize=[10/2.57, 10/2.57])\n",
    "    show_poles(agent, environment)"
   ]
  },
  {
   "cell_type": "markdown",
   "metadata": {},
   "source": [
    "### SS430: check the discrepancy of estimated poles from true poles"
   ]
  },
  {
   "cell_type": "code",
   "execution_count": null,
   "metadata": {},
   "outputs": [],
   "source": [
    "def evaluatePolesDiscrepancy(agent, environment):\n",
    "    eig_true = environment.get_eig() # (nHiddeEnvironment,)\n",
    "    eig_estimated = agent.get_eig() # (nHiddenAgent,)\n",
    "    gap = eig_true.reshape(-1,1) - eig_estimated # (nHiddenEnvironment, nHiddenAgent)\n",
    "    gap_total = np.mean(np.min(np.abs(gap), axis=1)) # (,)\n",
    "    return gap_total # (,)"
   ]
  },
  {
   "cell_type": "code",
   "execution_count": null,
   "metadata": {},
   "outputs": [],
   "source": [
    "tbl = {\n",
    "    \"epoch\": []\n",
    "    , \"gap_total\": []    \n",
    "    , **{key: [] for key in buildParameter.__dict__}\n",
    "    }\n",
    "\n",
    "for agent, buildParameter, epoch in genTrainedAgents():\n",
    "    environment = environmentFactory.create(buildParameter)\n",
    "    gap_total = evaluatePolesDiscrepancy(agent, environment)\n",
    "    \n",
    "    tbl[\"epoch\"].append(epoch)\n",
    "    tbl[\"gap_total\"].append(gap_total)\n",
    "    for key in buildParameter.__dict__:\n",
    "        tbl[key].append(buildParameter.__dict__[key])\n",
    "tbl = pd.DataFrame(tbl)"
   ]
  },
  {
   "cell_type": "code",
   "execution_count": null,
   "metadata": {},
   "outputs": [],
   "source": [
    "t = []\n",
    "x = []\n",
    "for epoch in np.unique(tbl.epoch):\n",
    "    idx = tbl.epoch == epoch\n",
    "    x.append(tbl.gap_total[idx])\n",
    "    t.append(epoch)\n",
    "plt.boxplot(x, labels=t)\n",
    "plt.xlabel('epoch')\n",
    "plt.title('discrepancy')\n",
    "pass"
   ]
  },
  {
   "cell_type": "markdown",
   "metadata": {},
   "source": [
    "export the table to csv file:"
   ]
  },
  {
   "cell_type": "code",
   "execution_count": null,
   "metadata": {},
   "outputs": [],
   "source": [
    "tbl.to_csv(\"test_exported.csv\")"
   ]
  }
 ],
 "metadata": {
  "kernelspec": {
   "display_name": "Python 3",
   "language": "python",
   "name": "python3"
  },
  "language_info": {
   "codemirror_mode": {
    "name": "ipython",
    "version": 3
   },
   "file_extension": ".py",
   "mimetype": "text/x-python",
   "name": "python",
   "nbconvert_exporter": "python",
   "pygments_lexer": "ipython3",
   "version": "3.7.5"
  }
 },
 "nbformat": 4,
 "nbformat_minor": 2
}
